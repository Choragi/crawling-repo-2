{
 "cells": [
  {
   "cell_type": "markdown",
   "metadata": {},
   "source": [
    "### 배민상회 기준 카테고리를 분류하기위해 Naive Bayes 활용\n",
    "> 민형기 강사님 pdf자료 29번, 34번 참고\n",
    "\n",
    "- 여러 케이스로 시도함.. 뭐가 더 알맞는지 판단할 수준이 아니였음..\n",
    "- 아래의 다른 clf는 LGBMClassifier, XGBClassifier 사용함\n",
    "    - case 1. : countvector -> tfidftransformer -> multinomialNB / 다른 clf\n",
    "    - case 2. : tfidfvector -> tfidftransformer -> multinomialNB / 다른 clf\n",
    "    - case 3. : nltk.naivebayesclassifier\n",
    "    \n",
    "|case/acc | multinomialNB | LGBMClassifier | XGBClassifier| naivebayesclassifier |\n",
    "|:----:|:---------------:|:--------------:|:------------:|:------------:|\n",
    "|case 1 | 0.65 | 0.48 | 0.57 | - |\n",
    "|case 2 | 0.79 | - | 0.87 | - |\n",
    "|case 3 | - | - | - | 0.82 |\n"
   ]
  },
  {
   "cell_type": "markdown",
   "metadata": {},
   "source": [
    "> ### 좋은 시도였다.. 깨달은점.\n",
    "1. **사전 학습시키기 위한 데이터는 충분해야한다..(최소 500개 이상)**\n",
    "2. 이진 분류일 경우 naivebayes, 그 이상일 경우 multinomialNB\n",
    "3. 판단 기준은 accuracy 보다는 confusion_matrix를 봐야한다\\\n",
    "*(이를 수치로 나타낼 수 있을까? 더 낫다 라는걸 비교할 수있을까...? roc그래프를 그려야하나?)*"
   ]
  },
  {
   "cell_type": "code",
   "execution_count": 251,
   "metadata": {
    "scrolled": true
   },
   "outputs": [
    {
     "name": "stdout",
     "output_type": "stream",
     "text": [
      "냉동상품\n",
      "0 1 2 3 4 5 6 7 8 9 10 11 \n",
      "냉장식품\n",
      "0 1 2 3 4 5 6 7 8 9 10 11 \n",
      "유제품\n",
      "0 1 2 3 4 5 6 7 8 9 10 11 \n",
      "식용유/설탕/소금\n",
      "0 1 2 3 4 5 6 7 8 9 10 11 \n",
      "장류/조미료\n",
      "0 1 2 3 4 5 6 7 8 9 10 11 \n",
      "소스/양념/육수\n",
      "0 1 2 3 4 5 6 7 8 9 10 11 \n",
      "밀가루/라면/믹스류\n",
      "0 1 2 3 4 5 6 7 8 9 10 11 \n",
      "편의식/가공기타\n",
      "0 1 2 3 4 5 6 7 8 9 10 11 \n",
      "반찬류\n",
      "0 1 2 3 4 5 6 7 8 9 10 11 \n",
      "야채/채소\n",
      "0 1 2 3 4 5 6 7 8 9 10 11 \n",
      "과일\n",
      "0 1 2 3 4 5 6 7 8 9 10 11 \n",
      "쌀/잡곡/견과\n",
      "0 1 2 3 4 5 6 7 8 9 10 11 \n",
      "수산/건어물\n",
      "0 1 2 3 4 5 6 7 8 9 10 11 \n",
      "축산/계란\n",
      "0 1 2 3 4 5 6 7 8 9 10 11 \n",
      "====================================================================================================\n",
      "It's saved as baemin_mart_items.csv file.\n",
      "====================================================================================================\n"
     ]
    }
   ],
   "source": [
    "# %load baemin_mart_items.py\n",
    "\n",
    "import pandas as pd\n",
    "import requests \n",
    "import time\n",
    "\n",
    "categories = {\n",
    "    100015 : \"냉동상품\",\n",
    "    100024 : \"냉장식품\",\n",
    "    100028 : \"유제품\",\n",
    "    100032 : \"식용유/설탕/소금\",\n",
    "    100038 : \"장류/조미료\",\n",
    "    100043 : \"소스/양념/육수\",\n",
    "    100050 : \"밀가루/라면/믹스류\",\n",
    "    100054 : \"편의식/가공기타\",\n",
    "    100061 : \"반찬류\",\n",
    "    100067 : \"야채/채소\",\n",
    "    100077 : \"과일\",\n",
    "    100081 : \"쌀/잡곡/견과\",\n",
    "    100085 : \"수산/건어물\",\n",
    "    100096 : \"축산/계란\",\n",
    "}\n",
    "\n",
    "def baemin_items(category, page):\n",
    "    url = \"https://mart.baemin.com/api/v2/front/categories/goods/{}/paging?goodsSortType=BASIC&page={}\".format(category, page)\n",
    "    response = requests.get(url)\n",
    "    elements = response.json()['data']['simpleGoodsDtoPage']['content']\n",
    "    datas = []\n",
    "    for element in elements:\n",
    "        title = element['name']\n",
    "        price = element['goodsPrice']\n",
    "#         o_price = element['customerPrice']\n",
    "        # 원인은 모르겠지만.. 100050/밀가루 쪽에서 에러남\n",
    "        try :\n",
    "            min_gram = element['sizeDesc']\n",
    "        except:\n",
    "            min_gram = \"-\"\n",
    "        try:\n",
    "            price_per_gram = element['priceDesc']\n",
    "        except:\n",
    "            price_per_gram = \"-\"\n",
    "        link = \"https://mart.baemin.com/goods/detail/\" + str(element['id'])\n",
    "        datas.append({\n",
    "            \"category\": categories[category],\n",
    "            \"title\" : title,\n",
    "            \"price\" : price,\n",
    "#             \"o_price\" : o_price,\n",
    "            \"min_gram\" : min_gram,\n",
    "            \"price_per_gram\" : price_per_gram,\n",
    "            \"link\" : link,\n",
    "        })\n",
    "        \n",
    "    return pd.DataFrame(datas)\n",
    "\n",
    "dfs = []\n",
    "for category in categories:\n",
    "    print(categories[category])\n",
    "    for page in range(12): # url에서 page가 0부터 시작\n",
    "        print(page, end=\" \")\n",
    "        df = baemin_items(category, page)\n",
    "        dfs.append(df)\n",
    "    print()\n",
    "    time.sleep(2)\n",
    "\n",
    "# global gagong_df -> 파이썬 파일을 실행 했을 때 gagong_df가 나왔으면 좋겠음.. \n",
    "baemin_mart_items_df = pd.concat(dfs, ignore_index=True)\n",
    "baemin_mart_items_df\n",
    "\n",
    "# baemin_mart_items.to_csv(\"baemin_mart_items.csv\", index=False, encoding=\"utf-8-sig\")\n",
    "\n",
    "print(\"=\"*100)\n",
    "print(\"It's saved as baemin_mart_items.csv file.\")\n",
    "print(\"=\"*100)\n"
   ]
  },
  {
   "cell_type": "code",
   "execution_count": 254,
   "metadata": {},
   "outputs": [
    {
     "data": {
      "text/html": [
       "<div>\n",
       "<style scoped>\n",
       "    .dataframe tbody tr th:only-of-type {\n",
       "        vertical-align: middle;\n",
       "    }\n",
       "\n",
       "    .dataframe tbody tr th {\n",
       "        vertical-align: top;\n",
       "    }\n",
       "\n",
       "    .dataframe thead th {\n",
       "        text-align: right;\n",
       "    }\n",
       "</style>\n",
       "<table border=\"1\" class=\"dataframe\">\n",
       "  <thead>\n",
       "    <tr style=\"text-align: right;\">\n",
       "      <th></th>\n",
       "      <th>title</th>\n",
       "      <th>category</th>\n",
       "    </tr>\n",
       "  </thead>\n",
       "  <tbody>\n",
       "    <tr>\n",
       "      <th>4429</th>\n",
       "      <td>[든든] 도드람 양념목심 500g 5개</td>\n",
       "      <td>축산/계란</td>\n",
       "    </tr>\n",
       "    <tr>\n",
       "      <th>4430</th>\n",
       "      <td>[든든] 도드람 양념왕구이 630g 5개</td>\n",
       "      <td>축산/계란</td>\n",
       "    </tr>\n",
       "    <tr>\n",
       "      <th>4431</th>\n",
       "      <td>[든든] 도드람 오소리감투 200g 5개</td>\n",
       "      <td>축산/계란</td>\n",
       "    </tr>\n",
       "    <tr>\n",
       "      <th>4432</th>\n",
       "      <td>[든든] 도드람 통갈비양념구이 800g 5개</td>\n",
       "      <td>축산/계란</td>\n",
       "    </tr>\n",
       "    <tr>\n",
       "      <th>4433</th>\n",
       "      <td>[든든] 도드람 훈제바베큐족발 500g</td>\n",
       "      <td>축산/계란</td>\n",
       "    </tr>\n",
       "  </tbody>\n",
       "</table>\n",
       "</div>"
      ],
      "text/plain": [
       "                         title category\n",
       "4429     [든든] 도드람 양념목심 500g 5개    축산/계란\n",
       "4430    [든든] 도드람 양념왕구이 630g 5개    축산/계란\n",
       "4431    [든든] 도드람 오소리감투 200g 5개    축산/계란\n",
       "4432  [든든] 도드람 통갈비양념구이 800g 5개    축산/계란\n",
       "4433    [든든] 도드람 훈제바베큐족발 500g     축산/계란"
      ]
     },
     "execution_count": 254,
     "metadata": {},
     "output_type": "execute_result"
    }
   ],
   "source": [
    "bm_df1 = baemin_mart_items_df[['title', 'category']]\n",
    "bm_df1.tail()"
   ]
  },
  {
   "cell_type": "code",
   "execution_count": 255,
   "metadata": {},
   "outputs": [
    {
     "data": {
      "text/plain": [
       "편의식/가공기타      1011\n",
       "냉동상품           762\n",
       "소스/양념/육수       564\n",
       "수산/건어물         489\n",
       "축산/계란          486\n",
       "장류/조미료         276\n",
       "야채/채소          229\n",
       "밀가루/라면/믹스류     156\n",
       "반찬류            114\n",
       "쌀/잡곡/견과         99\n",
       "식용유/설탕/소금       92\n",
       "유제품             78\n",
       "냉장식품            61\n",
       "과일              17\n",
       "Name: category, dtype: int64"
      ]
     },
     "execution_count": 255,
     "metadata": {},
     "output_type": "execute_result"
    }
   ],
   "source": [
    "bm_df1['category'].value_counts()"
   ]
  },
  {
   "cell_type": "code",
   "execution_count": 256,
   "metadata": {},
   "outputs": [
    {
     "name": "stdout",
     "output_type": "stream",
     "text": [
      "포장용품\n",
      "0 1 2 3 4 5 6 7 8 9 10 11 \n",
      "포장용품\n",
      "0 1 2 3 4 5 6 7 8 9 10 11 \n",
      "포장용품\n",
      "0 1 2 3 4 5 6 7 8 9 10 11 \n",
      "포장용품\n",
      "0 1 2 3 4 5 6 7 8 9 10 11 \n",
      "가게위생용품\n",
      "0 1 2 3 4 5 6 7 8 9 10 11 \n",
      "포장용품\n",
      "0 1 2 3 4 5 6 7 8 9 10 11 \n",
      "가게위생용품\n",
      "0 1 2 3 4 5 6 7 8 9 10 11 \n",
      "====================================================================================================\n",
      "It's saved as baemin_mart_delivery_goods.csv file.\n",
      "====================================================================================================\n"
     ]
    }
   ],
   "source": [
    "# %load baemin_mart_delivery_goods.py\n",
    "\n",
    "import pandas as pd\n",
    "import requests \n",
    "import time\n",
    "\n",
    "# categories = {\n",
    "#     100104 : \"플라스틱용기\",\n",
    "#     100105 : \"종이용기/박스\",\n",
    "#     100138 : \"카페/음료용기\",\n",
    "#     100159 : \"종이/비닐봉투\",\n",
    "#     100165 : \"수저/위생용품\",\n",
    "#     100177 : \"스티커/배너/포스터\",\n",
    "#     100184 : \"포장재\",\n",
    "#     100188 : \"기타가게용품\",\n",
    "# }\n",
    "\n",
    "categories = {\n",
    "    100104 : \"포장용품\",\n",
    "    100105 : \"포장용품\",\n",
    "    100138 : \"포장용품\",\n",
    "    100159 : \"포장용품\",\n",
    "    100165 : \"가게위생용품\",\n",
    "    100184 : \"포장용품\",\n",
    "    100188 : \"가게위생용품\",\n",
    "}\n",
    "\n",
    "\n",
    "def baemin_items(category, page):\n",
    "    url = \"https://mart.baemin.com/api/v2/front/categories/goods/{}/paging?goodsSortType=BASIC&page={}\".format(category, page)\n",
    "    response = requests.get(url)\n",
    "    elements = response.json()['data']['simpleGoodsDtoPage']['content']\n",
    "    datas = []\n",
    "    for element in elements:\n",
    "        title = element['name']\n",
    "        price = element['goodsPrice']\n",
    "#         o_price = element['customerPrice']\n",
    "        # 원인은 모르겠지만.. 100050/밀가루 쪽에서 에러남\n",
    "        try :\n",
    "            min_gram = element['sizeDesc']\n",
    "        except:\n",
    "            min_gram = \"-\"\n",
    "        try:\n",
    "            price_per_gram = element['priceDesc']\n",
    "        except:\n",
    "            price_per_gram = \"-\"\n",
    "        link = \"https://mart.baemin.com/goods/detail/\" + str(element['id'])\n",
    "        datas.append({\n",
    "            \"category\": categories[category],\n",
    "            \"title\" : title,\n",
    "            \"price\" : price,\n",
    "#             \"o_price\" : o_price,\n",
    "            \"min_gram\" : min_gram,\n",
    "            \"price_per_gram\" : price_per_gram,\n",
    "            \"link\" : link,\n",
    "        })\n",
    "    return pd.DataFrame(datas)\n",
    "\n",
    "dfs = []\n",
    "for category in categories:\n",
    "    print(categories[category])\n",
    "    for page in range(12): # url에서 page가 0부터 시작\n",
    "        print(page, end=\" \")\n",
    "        df = baemin_items(category, page)\n",
    "        dfs.append(df)\n",
    "    print()\n",
    "    time.sleep(2)\n",
    "\n",
    "# global gagong_df -> 파이썬 파일을 실행 했을 때 gagong_df가 나왔으면 좋겠음.. \n",
    "baemin_mart_delivery_goods_df = pd.concat(dfs, ignore_index=True)\n",
    "baemin_mart_delivery_goods_df\n",
    "\n",
    "# baemin_mart_delivery_goods_df.to_csv(\"baemin_mart_delivery_goods.csv\", index=False, encoding=\"utf-8-sig\")\n",
    "\n",
    "print(\"=\"*100)\n",
    "print(\"It's saved as baemin_mart_delivery_goods.csv file.\")\n",
    "print(\"=\"*100)\n"
   ]
  },
  {
   "cell_type": "code",
   "execution_count": 257,
   "metadata": {},
   "outputs": [
    {
     "data": {
      "text/html": [
       "<div>\n",
       "<style scoped>\n",
       "    .dataframe tbody tr th:only-of-type {\n",
       "        vertical-align: middle;\n",
       "    }\n",
       "\n",
       "    .dataframe tbody tr th {\n",
       "        vertical-align: top;\n",
       "    }\n",
       "\n",
       "    .dataframe thead th {\n",
       "        text-align: right;\n",
       "    }\n",
       "</style>\n",
       "<table border=\"1\" class=\"dataframe\">\n",
       "  <thead>\n",
       "    <tr style=\"text-align: right;\">\n",
       "      <th></th>\n",
       "      <th>title</th>\n",
       "      <th>category</th>\n",
       "    </tr>\n",
       "  </thead>\n",
       "  <tbody>\n",
       "    <tr>\n",
       "      <th>2390</th>\n",
       "      <td>[든든]리오 락스 2L</td>\n",
       "      <td>가게위생용품</td>\n",
       "    </tr>\n",
       "    <tr>\n",
       "      <th>2391</th>\n",
       "      <td>[든든]스카치브라이트 수세미(다목적용_청색) 2 개</td>\n",
       "      <td>가게위생용품</td>\n",
       "    </tr>\n",
       "    <tr>\n",
       "      <th>2392</th>\n",
       "      <td>[든든]크린업 부직포행주(삼색_38*38cm) 3 개</td>\n",
       "      <td>가게위생용품</td>\n",
       "    </tr>\n",
       "    <tr>\n",
       "      <th>2393</th>\n",
       "      <td>[든든]크린업 스폰지수세미(15*9*3cm) 2 개</td>\n",
       "      <td>가게위생용품</td>\n",
       "    </tr>\n",
       "    <tr>\n",
       "      <th>2394</th>\n",
       "      <td>[든든]크린업 은사수세미(18*14cm) 2 개</td>\n",
       "      <td>가게위생용품</td>\n",
       "    </tr>\n",
       "  </tbody>\n",
       "</table>\n",
       "</div>"
      ],
      "text/plain": [
       "                              title category\n",
       "2390                   [든든]리오 락스 2L   가게위생용품\n",
       "2391   [든든]스카치브라이트 수세미(다목적용_청색) 2 개   가게위생용품\n",
       "2392  [든든]크린업 부직포행주(삼색_38*38cm) 3 개   가게위생용품\n",
       "2393   [든든]크린업 스폰지수세미(15*9*3cm) 2 개   가게위생용품\n",
       "2394     [든든]크린업 은사수세미(18*14cm) 2 개   가게위생용품"
      ]
     },
     "execution_count": 257,
     "metadata": {},
     "output_type": "execute_result"
    }
   ],
   "source": [
    "bm_df2 = baemin_mart_delivery_goods_df[['title', 'category']]\n",
    "bm_df2.tail()"
   ]
  },
  {
   "cell_type": "code",
   "execution_count": 312,
   "metadata": {},
   "outputs": [
    {
     "data": {
      "text/html": [
       "<div>\n",
       "<style scoped>\n",
       "    .dataframe tbody tr th:only-of-type {\n",
       "        vertical-align: middle;\n",
       "    }\n",
       "\n",
       "    .dataframe tbody tr th {\n",
       "        vertical-align: top;\n",
       "    }\n",
       "\n",
       "    .dataframe thead th {\n",
       "        text-align: right;\n",
       "    }\n",
       "</style>\n",
       "<table border=\"1\" class=\"dataframe\">\n",
       "  <thead>\n",
       "    <tr style=\"text-align: right;\">\n",
       "      <th></th>\n",
       "      <th>title</th>\n",
       "      <th>category</th>\n",
       "    </tr>\n",
       "  </thead>\n",
       "  <tbody>\n",
       "    <tr>\n",
       "      <th>6824</th>\n",
       "      <td>[든든]리오 락스 2L</td>\n",
       "      <td>가게위생용품</td>\n",
       "    </tr>\n",
       "    <tr>\n",
       "      <th>6825</th>\n",
       "      <td>[든든]스카치브라이트 수세미(다목적용_청색) 2 개</td>\n",
       "      <td>가게위생용품</td>\n",
       "    </tr>\n",
       "    <tr>\n",
       "      <th>6826</th>\n",
       "      <td>[든든]크린업 부직포행주(삼색_38*38cm) 3 개</td>\n",
       "      <td>가게위생용품</td>\n",
       "    </tr>\n",
       "    <tr>\n",
       "      <th>6827</th>\n",
       "      <td>[든든]크린업 스폰지수세미(15*9*3cm) 2 개</td>\n",
       "      <td>가게위생용품</td>\n",
       "    </tr>\n",
       "    <tr>\n",
       "      <th>6828</th>\n",
       "      <td>[든든]크린업 은사수세미(18*14cm) 2 개</td>\n",
       "      <td>가게위생용품</td>\n",
       "    </tr>\n",
       "  </tbody>\n",
       "</table>\n",
       "</div>"
      ],
      "text/plain": [
       "                              title category\n",
       "6824                   [든든]리오 락스 2L   가게위생용품\n",
       "6825   [든든]스카치브라이트 수세미(다목적용_청색) 2 개   가게위생용품\n",
       "6826  [든든]크린업 부직포행주(삼색_38*38cm) 3 개   가게위생용품\n",
       "6827   [든든]크린업 스폰지수세미(15*9*3cm) 2 개   가게위생용품\n",
       "6828     [든든]크린업 은사수세미(18*14cm) 2 개   가게위생용품"
      ]
     },
     "execution_count": 312,
     "metadata": {},
     "output_type": "execute_result"
    }
   ],
   "source": [
    "bm_df = pd.concat([bm_df1, bm_df2], ignore_index=True)\n",
    "bm_df.tail()"
   ]
  },
  {
   "cell_type": "markdown",
   "metadata": {},
   "source": [
    "### case 1. countvector -> tfidftransformer -> multinomialNB / 다른 clf"
   ]
  },
  {
   "cell_type": "code",
   "execution_count": 40,
   "metadata": {},
   "outputs": [],
   "source": [
    "# import string \n",
    "# from nltk.corpus import stopwords"
   ]
  },
  {
   "cell_type": "code",
   "execution_count": 65,
   "metadata": {},
   "outputs": [
    {
     "data": {
      "text/plain": [
       "'[든든] 닭목살튀김 마일드     '"
      ]
     },
     "execution_count": 65,
     "metadata": {},
     "output_type": "execute_result"
    }
   ],
   "source": [
    "# bm_df['title'][0]"
   ]
  },
  {
   "cell_type": "code",
   "execution_count": 61,
   "metadata": {},
   "outputs": [
    {
     "data": {
      "text/plain": [
       "'[든든]크린업 은사수세미( * )  '"
      ]
     },
     "execution_count": 61,
     "metadata": {},
     "output_type": "execute_result"
    }
   ],
   "source": [
    "# bm_df['title'][len(bm_df['title'])-1]"
   ]
  },
  {
   "cell_type": "code",
   "execution_count": 62,
   "metadata": {},
   "outputs": [],
   "source": [
    "# 특수문자 제거 ( !\"#$%&'()*+,-./:;<=>?@[\\]^_`{|}~ )"
   ]
  },
  {
   "cell_type": "code",
   "execution_count": 78,
   "metadata": {},
   "outputs": [
    {
     "data": {
      "text/plain": [
       "['닭목살튀김', '마일드']"
      ]
     },
     "execution_count": 78,
     "metadata": {},
     "output_type": "execute_result"
    }
   ],
   "source": [
    "# s = [char for char in bm_df['title'][0] if char not in string.punctuation]\n",
    "# s = ''.join(s)\n",
    "# s.split()"
   ]
  },
  {
   "cell_type": "code",
   "execution_count": 79,
   "metadata": {},
   "outputs": [],
   "source": [
    "# (숫자)g/kg/개 , 든든 제거 "
   ]
  },
  {
   "cell_type": "code",
   "execution_count": 80,
   "metadata": {},
   "outputs": [
    {
     "data": {
      "text/plain": [
       "['닭목살튀김', '마일드']"
      ]
     },
     "execution_count": 80,
     "metadata": {},
     "output_type": "execute_result"
    }
   ],
   "source": [
    "# s = re.sub(r\"\\d+\\s?\\w*\", \" \", s)\n",
    "# s = re.sub(r\"든든\", \" \", s)\n",
    "# s.split()"
   ]
  },
  {
   "cell_type": "code",
   "execution_count": 44,
   "metadata": {},
   "outputs": [],
   "source": [
    "# 불용어 제거 \n",
    "# 조사, 접미사 같은 단어들은 문장에서는 자주 등장하지만 \n",
    "# 실제 의미 분석을 하는데는 거의 기여하는 바가 없는 경우가 있습니다. \n",
    "# 이러한 단어들을 불용어(stopword)라고 함. -> 한글은 따로 설정해서 하는 듯.\n",
    "# 혹은 tfidf에서 많이 등장하는 단어 max_df로 걸러내는 듯. "
   ]
  },
  {
   "cell_type": "code",
   "execution_count": 338,
   "metadata": {},
   "outputs": [],
   "source": [
    "def clean_txt(text):\n",
    "    s = [char for char in text if char not in string.punctuation]\n",
    "    s = ''.join(s)\n",
    "    s = re.sub(r\"\\d+\\s?\\w*\", \" \", s)\n",
    "    s = re.sub(r\"든든\", \" \", s)\n",
    "\n",
    "#     nopunc = s.split()\n",
    "    return s"
   ]
  },
  {
   "cell_type": "code",
   "execution_count": 339,
   "metadata": {},
   "outputs": [
    {
     "data": {
      "text/plain": [
       "6824                 리오 락스  \n",
       "6825     스카치브라이트 수세미다목적용청색  \n",
       "6826          크린업 부직포행주삼색   \n",
       "6827           크린업 스폰지수세미   \n",
       "6828            크린업 은사수세미   \n",
       "Name: title, dtype: object"
      ]
     },
     "execution_count": 339,
     "metadata": {},
     "output_type": "execute_result"
    }
   ],
   "source": [
    "bm_df['title'] = bm_df['title'].apply(clean_txt)\n",
    "bm_df['title'].tail()"
   ]
  },
  {
   "cell_type": "code",
   "execution_count": 340,
   "metadata": {},
   "outputs": [],
   "source": [
    "from sklearn.model_selection import train_test_split\n",
    "\n",
    "t_train, t_test, c_train, c_test = train_test_split(bm_df['title'], \n",
    "                                                    bm_df['category'], test_size=0.2,\n",
    "                                                   random_state=13)"
   ]
  },
  {
   "cell_type": "code",
   "execution_count": 262,
   "metadata": {},
   "outputs": [],
   "source": [
    "from sklearn.feature_extraction.text import (CountVectorizer, \n",
    "                                             TfidfTransformer, TfidfVectorizer)\n",
    "from sklearn.naive_bayes import MultinomialNB\n",
    "from sklearn.pipeline import Pipeline\n",
    "from lightgbm import LGBMClassifier\n",
    "from xgboost import XGBClassifier"
   ]
  },
  {
   "cell_type": "markdown",
   "metadata": {},
   "source": [
    "### case 1-1. CountVectorizer->TfidfTransformer->MultinomialNB"
   ]
  },
  {
   "cell_type": "code",
   "execution_count": 392,
   "metadata": {},
   "outputs": [],
   "source": [
    "pipeline = Pipeline([\n",
    "    ('vect', CountVectorizer()),\n",
    "    ('tfidf', TfidfTransformer()),\n",
    "    ('clf', MultinomialNB())\n",
    "])"
   ]
  },
  {
   "cell_type": "code",
   "execution_count": 393,
   "metadata": {},
   "outputs": [
    {
     "data": {
      "text/plain": [
       "Pipeline(steps=[('vect', CountVectorizer()), ('tfidf', TfidfTransformer()),\n",
       "                ('clf', MultinomialNB())])"
      ]
     },
     "execution_count": 393,
     "metadata": {},
     "output_type": "execute_result"
    }
   ],
   "source": [
    "pipeline.fit(t_train, c_train)"
   ]
  },
  {
   "cell_type": "code",
   "execution_count": 394,
   "metadata": {},
   "outputs": [],
   "source": [
    "predictions = pipeline.predict(t_test)"
   ]
  },
  {
   "cell_type": "code",
   "execution_count": 395,
   "metadata": {},
   "outputs": [
    {
     "data": {
      "text/plain": [
       "0.650805270863836"
      ]
     },
     "execution_count": 395,
     "metadata": {},
     "output_type": "execute_result"
    }
   ],
   "source": [
    "from sklearn.metrics import accuracy_score\n",
    "accuracy_score(c_test,predictions)"
   ]
  },
  {
   "cell_type": "code",
   "execution_count": 396,
   "metadata": {},
   "outputs": [
    {
     "name": "stdout",
     "output_type": "stream",
     "text": [
      "              precision    recall  f1-score   support\n",
      "\n",
      "      가게위생용품       1.00      0.19      0.31        59\n",
      "          과일       0.00      0.00      0.00         3\n",
      "        냉동상품       0.63      0.59      0.61       146\n",
      "        냉장식품       0.00      0.00      0.00        15\n",
      "  밀가루/라면/믹스류       1.00      0.05      0.09        22\n",
      "         반찬류       0.00      0.00      0.00        23\n",
      "    소스/양념/육수       0.75      0.66      0.70       122\n",
      "      수산/건어물       1.00      0.30      0.46       105\n",
      "   식용유/설탕/소금       0.00      0.00      0.00        20\n",
      "     쌀/잡곡/견과       0.00      0.00      0.00        17\n",
      "       야채/채소       0.83      0.14      0.23        37\n",
      "         유제품       0.00      0.00      0.00        13\n",
      "      장류/조미료       0.90      0.39      0.54        49\n",
      "       축산/계란       0.91      0.67      0.77        90\n",
      "    편의식/가공기타       0.72      0.79      0.75       228\n",
      "        포장용품       0.57      1.00      0.72       417\n",
      "\n",
      "    accuracy                           0.65      1366\n",
      "   macro avg       0.52      0.30      0.32      1366\n",
      "weighted avg       0.68      0.65      0.60      1366\n",
      "\n"
     ]
    },
    {
     "name": "stderr",
     "output_type": "stream",
     "text": [
      "c:\\users\\82106\\anaconda3\\envs\\fc14th\\lib\\site-packages\\sklearn\\metrics\\_classification.py:1221: UndefinedMetricWarning: Precision and F-score are ill-defined and being set to 0.0 in labels with no predicted samples. Use `zero_division` parameter to control this behavior.\n",
      "  _warn_prf(average, modifier, msg_start, len(result))\n"
     ]
    }
   ],
   "source": [
    "from sklearn.metrics import classification_report\n",
    "print(classification_report(c_test,predictions))"
   ]
  },
  {
   "cell_type": "code",
   "execution_count": 397,
   "metadata": {},
   "outputs": [
    {
     "name": "stdout",
     "output_type": "stream",
     "text": [
      "[[ 11   0   3   0   0   0   0   0   0   0   0   0   0   0   6  39]\n",
      " [  0   0   0   0   0   0   0   0   0   0   1   0   0   0   1   1]\n",
      " [  0   0  86   0   0   0   2   0   0   0   0   0   0   3  18  37]\n",
      " [  0   0   2   0   0   0   0   0   0   0   0   0   0   0   3  10]\n",
      " [  0   0   1   0   1   0   7   0   0   0   0   0   1   0   3   9]\n",
      " [  0   0   1   0   0   0   0   0   0   0   0   0   0   0   7  15]\n",
      " [  0   0  13   0   0   0  80   0   0   0   0   0   0   0   5  24]\n",
      " [  0   0   1   0   0   0   0  31   0   0   0   0   0   3  13  57]\n",
      " [  0   0   6   0   0   0   6   0   0   0   0   0   1   0   4   3]\n",
      " [  0   0   0   0   0   0   0   0   0   0   0   0   0   0   1  16]\n",
      " [  0   0   2   0   0   0   0   0   0   0   5   0   0   0   0  30]\n",
      " [  0   0   3   0   0   0   0   0   0   0   0   0   0   0   3   7]\n",
      " [  0   0   9   0   0   0   6   0   0   0   0   0  19   0   1  14]\n",
      " [  0   0   4   0   0   0   0   0   0   0   0   0   0  60   5  21]\n",
      " [  0   0   6   0   0   0   6   0   0   0   0   0   0   0 179  37]\n",
      " [  0   0   0   0   0   0   0   0   0   0   0   0   0   0   0 417]]\n"
     ]
    }
   ],
   "source": [
    "from sklearn.metrics import confusion_matrix\n",
    "cnf = confusion_matrix(c_test,predictions)\n",
    "print(cnf)"
   ]
  },
  {
   "cell_type": "code",
   "execution_count": 398,
   "metadata": {},
   "outputs": [],
   "source": [
    "# 무슨.. 삼겹살이... 포장용품이니.. ㅠㅠ"
   ]
  },
  {
   "cell_type": "code",
   "execution_count": 399,
   "metadata": {},
   "outputs": [
    {
     "data": {
      "text/plain": [
       "array(['포장용품'], dtype='<U10')"
      ]
     },
     "execution_count": 399,
     "metadata": {},
     "output_type": "execute_result"
    }
   ],
   "source": [
    "pipeline.predict(['삼겹살'])"
   ]
  },
  {
   "cell_type": "markdown",
   "metadata": {},
   "source": [
    "### case 1-2. CountVectorizer->TfidfTransformer->LGBMClassifier"
   ]
  },
  {
   "cell_type": "code",
   "execution_count": 406,
   "metadata": {},
   "outputs": [],
   "source": [
    "pipeline = Pipeline([\n",
    "    ('vect', CountVectorizer()),\n",
    "    ('tfidf', TfidfTransformer()),\n",
    "    ('clf', LGBMClassifier())\n",
    "])"
   ]
  },
  {
   "cell_type": "code",
   "execution_count": 407,
   "metadata": {},
   "outputs": [
    {
     "data": {
      "text/plain": [
       "Pipeline(steps=[('vect', CountVectorizer()), ('tfidf', TfidfTransformer()),\n",
       "                ('clf', LGBMClassifier())])"
      ]
     },
     "execution_count": 407,
     "metadata": {},
     "output_type": "execute_result"
    }
   ],
   "source": [
    "pipeline.fit(t_train, c_train)"
   ]
  },
  {
   "cell_type": "code",
   "execution_count": 408,
   "metadata": {},
   "outputs": [],
   "source": [
    "predictions = pipeline.predict(t_test)"
   ]
  },
  {
   "cell_type": "code",
   "execution_count": 409,
   "metadata": {},
   "outputs": [
    {
     "data": {
      "text/plain": [
       "0.48316251830161056"
      ]
     },
     "execution_count": 409,
     "metadata": {},
     "output_type": "execute_result"
    }
   ],
   "source": [
    "accuracy_score(c_test,predictions)"
   ]
  },
  {
   "cell_type": "code",
   "execution_count": 410,
   "metadata": {},
   "outputs": [
    {
     "name": "stdout",
     "output_type": "stream",
     "text": [
      "              precision    recall  f1-score   support\n",
      "\n",
      "      가게위생용품       0.12      0.03      0.05        59\n",
      "          과일       0.00      0.00      0.00         3\n",
      "        냉동상품       0.31      0.21      0.25       146\n",
      "        냉장식품       0.00      0.00      0.00        15\n",
      "  밀가루/라면/믹스류       0.00      0.00      0.00        22\n",
      "         반찬류       0.00      0.00      0.00        23\n",
      "    소스/양념/육수       0.53      0.33      0.40       122\n",
      "      수산/건어물       0.45      0.14      0.22       105\n",
      "   식용유/설탕/소금       0.42      0.25      0.31        20\n",
      "     쌀/잡곡/견과       0.00      0.00      0.00        17\n",
      "       야채/채소       0.50      0.11      0.18        37\n",
      "         유제품       0.00      0.00      0.00        13\n",
      "      장류/조미료       0.56      0.20      0.30        49\n",
      "       축산/계란       0.96      0.57      0.71        90\n",
      "    편의식/가공기타       0.75      0.38      0.51       228\n",
      "        포장용품       0.45      1.00      0.62       417\n",
      "\n",
      "    accuracy                           0.48      1366\n",
      "   macro avg       0.32      0.20      0.22      1366\n",
      "weighted avg       0.48      0.48      0.42      1366\n",
      "\n"
     ]
    },
    {
     "name": "stderr",
     "output_type": "stream",
     "text": [
      "c:\\users\\82106\\anaconda3\\envs\\fc14th\\lib\\site-packages\\sklearn\\metrics\\_classification.py:1221: UndefinedMetricWarning: Precision and F-score are ill-defined and being set to 0.0 in labels with no predicted samples. Use `zero_division` parameter to control this behavior.\n",
      "  _warn_prf(average, modifier, msg_start, len(result))\n"
     ]
    }
   ],
   "source": [
    "print(classification_report(c_test,predictions))"
   ]
  },
  {
   "cell_type": "code",
   "execution_count": 412,
   "metadata": {},
   "outputs": [
    {
     "data": {
      "text/plain": [
       "array(['포장용품'], dtype=object)"
      ]
     },
     "execution_count": 412,
     "metadata": {},
     "output_type": "execute_result"
    }
   ],
   "source": [
    "pipeline.predict(['진라면'])"
   ]
  },
  {
   "cell_type": "markdown",
   "metadata": {},
   "source": [
    "### case 1-3. CountVectorizer->TfidfTransformer->XGBClassifier"
   ]
  },
  {
   "cell_type": "code",
   "execution_count": 420,
   "metadata": {},
   "outputs": [],
   "source": [
    "pipeline = Pipeline([\n",
    "    ('vect', CountVectorizer()),\n",
    "    ('tfidf', TfidfTransformer()),\n",
    "    ('clf', XGBClassifier())\n",
    "])"
   ]
  },
  {
   "cell_type": "code",
   "execution_count": 421,
   "metadata": {},
   "outputs": [
    {
     "data": {
      "text/plain": [
       "Pipeline(steps=[('vect', CountVectorizer()), ('tfidf', TfidfTransformer()),\n",
       "                ('clf',\n",
       "                 XGBClassifier(base_score=0.5, booster='gbtree',\n",
       "                               colsample_bylevel=1, colsample_bynode=1,\n",
       "                               colsample_bytree=1, gamma=0, gpu_id=-1,\n",
       "                               importance_type='gain',\n",
       "                               interaction_constraints='',\n",
       "                               learning_rate=0.300000012, max_delta_step=0,\n",
       "                               max_depth=6, min_child_weight=1, missing=nan,\n",
       "                               monotone_constraints='()', n_estimators=100,\n",
       "                               n_jobs=0, num_parallel_tree=1,\n",
       "                               objective='multi:softprob', random_state=0,\n",
       "                               reg_alpha=0, reg_lambda=1, scale_pos_weight=None,\n",
       "                               subsample=1, tree_method='exact',\n",
       "                               validate_parameters=1, verbosity=None))])"
      ]
     },
     "execution_count": 421,
     "metadata": {},
     "output_type": "execute_result"
    }
   ],
   "source": [
    "pipeline.fit(t_train, c_train)"
   ]
  },
  {
   "cell_type": "code",
   "execution_count": 422,
   "metadata": {},
   "outputs": [],
   "source": [
    "predictions = pipeline.predict(t_test)"
   ]
  },
  {
   "cell_type": "code",
   "execution_count": 423,
   "metadata": {},
   "outputs": [
    {
     "data": {
      "text/plain": [
       "0.5739385065885798"
      ]
     },
     "execution_count": 423,
     "metadata": {},
     "output_type": "execute_result"
    }
   ],
   "source": [
    "accuracy_score(c_test,predictions)"
   ]
  },
  {
   "cell_type": "code",
   "execution_count": 424,
   "metadata": {},
   "outputs": [
    {
     "name": "stdout",
     "output_type": "stream",
     "text": [
      "              precision    recall  f1-score   support\n",
      "\n",
      "      가게위생용품       0.25      0.20      0.22        59\n",
      "          과일       0.10      0.33      0.15         3\n",
      "        냉동상품       0.51      0.44      0.47       146\n",
      "        냉장식품       0.50      0.07      0.12        15\n",
      "  밀가루/라면/믹스류       0.69      0.41      0.51        22\n",
      "         반찬류       0.88      0.30      0.45        23\n",
      "    소스/양념/육수       0.73      0.43      0.54       122\n",
      "      수산/건어물       0.61      0.24      0.34       105\n",
      "   식용유/설탕/소금       0.54      0.35      0.42        20\n",
      "     쌀/잡곡/견과       1.00      0.18      0.30        17\n",
      "       야채/채소       0.00      0.00      0.00        37\n",
      "         유제품       0.00      0.00      0.00        13\n",
      "      장류/조미료       0.61      0.41      0.49        49\n",
      "       축산/계란       0.94      0.69      0.79        90\n",
      "    편의식/가공기타       0.83      0.46      0.60       228\n",
      "        포장용품       0.52      1.00      0.68       417\n",
      "\n",
      "    accuracy                           0.57      1366\n",
      "   macro avg       0.54      0.34      0.38      1366\n",
      "weighted avg       0.61      0.57      0.54      1366\n",
      "\n"
     ]
    }
   ],
   "source": [
    "print(classification_report(c_test,predictions))"
   ]
  },
  {
   "cell_type": "code",
   "execution_count": 425,
   "metadata": {},
   "outputs": [
    {
     "name": "stdout",
     "output_type": "stream",
     "text": [
      "[[ 12   0   5   0   0   0   0   0   0   0   0   0   0   0   0  42]\n",
      " [  0   1   0   0   0   0   0   0   0   0   0   0   0   0   1   1]\n",
      " [  6   1  64   1   0   1   3   0   0   0   0   0   5   2   6  57]\n",
      " [  2   0   0   1   0   0   0   0   0   0   1   0   0   0   1  10]\n",
      " [  0   0   1   0   9   0   2   0   1   0   0   0   4   0   0   5]\n",
      " [  2   0   3   0   0   7   0   0   0   0   0   0   0   0   2   9]\n",
      " [ 10   1  20   0   1   0  52   0   3   0   0   0   2   0   2  31]\n",
      " [  3   0   5   0   0   0   0  25   0   0   1   1   0   1   3  66]\n",
      " [  1   0   5   0   1   0   4   0   7   0   0   0   0   0   1   1]\n",
      " [  0   0   0   0   0   0   0   0   0   3   0   0   0   0   1  13]\n",
      " [  2   4   0   0   0   0   0   0   0   0   0   0   0   0   0  31]\n",
      " [  0   1   2   0   0   0   0   0   0   0   0   0   0   0   1   9]\n",
      " [  3   0   3   0   0   0   7   0   2   0   0   0  20   0   0  14]\n",
      " [  0   0   1   0   0   0   0   0   0   0   0   0   0  62   3  24]\n",
      " [  5   2  17   0   2   0   3  16   0   0   0   1   2   1 106  73]\n",
      " [  2   0   0   0   0   0   0   0   0   0   0   0   0   0   0 415]]\n"
     ]
    }
   ],
   "source": [
    "print(confusion_matrix(c_test,predictions))"
   ]
  },
  {
   "cell_type": "code",
   "execution_count": 426,
   "metadata": {},
   "outputs": [
    {
     "data": {
      "text/plain": [
       "array(['포장용품'], dtype=object)"
      ]
     },
     "execution_count": 426,
     "metadata": {},
     "output_type": "execute_result"
    }
   ],
   "source": [
    "pipeline.predict(['진라면'])"
   ]
  },
  {
   "cell_type": "code",
   "execution_count": 427,
   "metadata": {},
   "outputs": [
    {
     "data": {
      "text/plain": [
       "array(['축산/계란'], dtype=object)"
      ]
     },
     "execution_count": 427,
     "metadata": {},
     "output_type": "execute_result"
    }
   ],
   "source": [
    "pipeline.predict(['[국내산] 유명산지 햇사과 5~8입/봉'])"
   ]
  },
  {
   "cell_type": "markdown",
   "metadata": {},
   "source": [
    "> ### 분류기를 MultinomialNB 했을 때 accuracy 0.65로 가장 높음"
   ]
  },
  {
   "cell_type": "markdown",
   "metadata": {},
   "source": [
    "### case 2. tfidfvector -> tfidftransformer -> multinomialNB / 다른 clf"
   ]
  },
  {
   "cell_type": "code",
   "execution_count": 428,
   "metadata": {},
   "outputs": [],
   "source": [
    "from konlpy.tag import Okt\n",
    "okt = Okt()\n",
    "def okt_tokenizer(text):\n",
    "    token = okt.morphs(text)\n",
    "    return token"
   ]
  },
  {
   "cell_type": "code",
   "execution_count": 429,
   "metadata": {},
   "outputs": [
    {
     "data": {
      "text/plain": [
       "['진경', '바보']"
      ]
     },
     "execution_count": 429,
     "metadata": {},
     "output_type": "execute_result"
    }
   ],
   "source": [
    "okt_tokenizer('진경바보')"
   ]
  },
  {
   "cell_type": "code",
   "execution_count": 430,
   "metadata": {},
   "outputs": [
    {
     "name": "stderr",
     "output_type": "stream",
     "text": [
      "c:\\users\\82106\\anaconda3\\envs\\fc14th\\lib\\site-packages\\sklearn\\feature_extraction\\text.py:484: UserWarning: The parameter 'token_pattern' will not be used since 'tokenizer' is not None'\n",
      "  warnings.warn(\"The parameter 'token_pattern' will not be used\"\n"
     ]
    }
   ],
   "source": [
    "tfidf_v = TfidfVectorizer(tokenizer=okt_tokenizer, ngram_range=(1, 2), max_df=0.9)\n",
    "tfidf_v.fit(t_train)\n",
    "tfidf_train = tfidf_v.transform(t_train)"
   ]
  },
  {
   "cell_type": "markdown",
   "metadata": {},
   "source": [
    "### case 1-1. TfidfVectorizer->TfidfTransformer->MultinomialNB"
   ]
  },
  {
   "cell_type": "code",
   "execution_count": 431,
   "metadata": {},
   "outputs": [
    {
     "data": {
      "text/plain": [
       "MultinomialNB()"
      ]
     },
     "execution_count": 431,
     "metadata": {},
     "output_type": "execute_result"
    }
   ],
   "source": [
    "nb_clf = MultinomialNB()\n",
    "nb_clf.fit(tfidf_train, c_train)"
   ]
  },
  {
   "cell_type": "code",
   "execution_count": 432,
   "metadata": {},
   "outputs": [
    {
     "data": {
      "text/plain": [
       "0.7935578330893118"
      ]
     },
     "execution_count": 432,
     "metadata": {},
     "output_type": "execute_result"
    }
   ],
   "source": [
    "from sklearn.metrics import accuracy_score\n",
    "\n",
    "tfidf_test = tfidf_v.transform(t_test)\n",
    "predict = nb_clf.predict(tfidf_test)\n",
    "\n",
    "accuracy_score(c_test, predict)"
   ]
  },
  {
   "cell_type": "markdown",
   "metadata": {},
   "source": [
    "### case 1-2. TfidfVectorizer->TfidfTransformer->XGBClassifier"
   ]
  },
  {
   "cell_type": "code",
   "execution_count": 433,
   "metadata": {},
   "outputs": [
    {
     "data": {
      "text/plain": [
       "XGBClassifier(base_score=0.5, booster='gbtree', colsample_bylevel=1,\n",
       "              colsample_bynode=1, colsample_bytree=1, gamma=0, gpu_id=-1,\n",
       "              importance_type='gain', interaction_constraints='',\n",
       "              learning_rate=0.300000012, max_delta_step=0, max_depth=6,\n",
       "              min_child_weight=1, missing=nan, monotone_constraints='()',\n",
       "              n_estimators=100, n_jobs=0, num_parallel_tree=1,\n",
       "              objective='multi:softprob', random_state=0, reg_alpha=0,\n",
       "              reg_lambda=1, scale_pos_weight=None, subsample=1,\n",
       "              tree_method='exact', validate_parameters=1, verbosity=None)"
      ]
     },
     "execution_count": 433,
     "metadata": {},
     "output_type": "execute_result"
    }
   ],
   "source": [
    "xgb_clf = XGBClassifier()\n",
    "xgb_clf.fit(tfidf_train, c_train)"
   ]
  },
  {
   "cell_type": "code",
   "execution_count": 434,
   "metadata": {},
   "outputs": [
    {
     "data": {
      "text/plain": [
       "0.8711566617862372"
      ]
     },
     "execution_count": 434,
     "metadata": {},
     "output_type": "execute_result"
    }
   ],
   "source": [
    "predict = xgb_clf.predict(tfidf_test)\n",
    "\n",
    "accuracy_score(c_test, predict)"
   ]
  },
  {
   "cell_type": "code",
   "execution_count": 435,
   "metadata": {},
   "outputs": [
    {
     "name": "stdout",
     "output_type": "stream",
     "text": [
      "[[ 51   0   2   2   0   0   0   0   0   0   0   0   0   0   4   0]\n",
      " [  0   1   0   0   0   0   0   0   0   0   1   0   0   0   0   1]\n",
      " [  2   0 120   1   0   0   0   0   0   0   1   1   2   4  14   1]\n",
      " [  1   0   4   6   0   0   0   0   0   0   0   0   0   0   4   0]\n",
      " [  0   0   1   0  16   0   0   0   0   0   0   0   1   0   3   1]\n",
      " [  0   0   0   0   0  14   1   0   0   0   0   0   1   1   5   1]\n",
      " [  0   0   4   0   0   0 105   0   0   0   0   0   1   1  11   0]\n",
      " [  0   1   1   0   0   0   1  88   0   0   1   0   1   1  10   1]\n",
      " [  1   0   1   0   0   0   0   0  15   0   0   0   1   0   2   0]\n",
      " [  0   0   1   0   0   0   0   0   0  13   0   0   0   0   3   0]\n",
      " [  0   0   0   0   0   3   0   0   0   0  33   0   0   0   1   0]\n",
      " [  0   0   0   0   0   0   0   1   0   0   0   6   0   0   6   0]\n",
      " [  0   0   1   0   0   0   2   1   2   1   0   0  37   0   5   0]\n",
      " [  0   0   1   0   0   0   2   0   0   0   5   0   1  71  10   0]\n",
      " [  4   0  13   0   1   0   0   5   0   1   0   1   2   1 198   2]\n",
      " [  1   0   0   0   0   0   0   0   0   0   0   0   0   0   0 416]]\n"
     ]
    }
   ],
   "source": [
    "print(confusion_matrix(c_test, predict))"
   ]
  },
  {
   "cell_type": "code",
   "execution_count": 436,
   "metadata": {},
   "outputs": [
    {
     "data": {
      "text/plain": [
       "array(['편의식/가공기타'], dtype=object)"
      ]
     },
     "execution_count": 436,
     "metadata": {},
     "output_type": "execute_result"
    }
   ],
   "source": [
    "xgb_clf.predict(tfidf_v.transform(['진라면']))"
   ]
  },
  {
   "cell_type": "code",
   "execution_count": 437,
   "metadata": {},
   "outputs": [
    {
     "data": {
      "text/plain": [
       "array(['야채/채소'], dtype=object)"
      ]
     },
     "execution_count": 437,
     "metadata": {},
     "output_type": "execute_result"
    }
   ],
   "source": [
    "xgb_clf.predict(tfidf_v.transform(['[국내산] 유명산지 햇사과 5~8입/봉']))"
   ]
  },
  {
   "cell_type": "code",
   "execution_count": 438,
   "metadata": {},
   "outputs": [
    {
     "data": {
      "text/plain": [
       "array(['냉동상품'], dtype=object)"
      ]
     },
     "execution_count": 438,
     "metadata": {},
     "output_type": "execute_result"
    }
   ],
   "source": [
    "xgb_clf.predict(tfidf_v.transform(['[목우촌] 주부9단 김밥햄 340g(170g*2개입)']))"
   ]
  },
  {
   "cell_type": "markdown",
   "metadata": {},
   "source": [
    "> ### 분류기를 XGBClassifier 했을 때 accuracy 0.87로 가장 높음. 실제 예측 결과는 ... 애매함.."
   ]
  },
  {
   "cell_type": "markdown",
   "metadata": {},
   "source": [
    "### case 3. nltk.naivebayesclf"
   ]
  },
  {
   "cell_type": "code",
   "execution_count": 359,
   "metadata": {},
   "outputs": [
    {
     "data": {
      "text/plain": [
       "[(' 이츠웰 홀 양송이캔  ', '편의식/가공기타'),\n",
       " ('  동경단무지 슬라이스  ', '반찬류'),\n",
       " ('  도야지 옛날맛편육  ', '편의식/가공기타'),\n",
       " ('앞치마일회용맘편히자알', '가게위생용품'),\n",
       " ('고강도 도시락용기 ', '포장용품')]"
      ]
     },
     "execution_count": 359,
     "metadata": {},
     "output_type": "execute_result"
    }
   ],
   "source": [
    "train = [ _ for _ in zip(t_train, c_train)]\n",
    "train[:5]"
   ]
  },
  {
   "cell_type": "code",
   "execution_count": 360,
   "metadata": {},
   "outputs": [
    {
     "data": {
      "text/plain": [
       "[(['이츠웰', '홀', '양송이', '캔'], '편의식/가공기타'),\n",
       " (['동경', '단무지', '슬', '라이스'], '반찬류'),\n",
       " (['도야지', '옛날', '맛', '편육'], '편의식/가공기타'),\n",
       " (['앞치마', '일회용', '맘', '편히자', '알'], '가게위생용품'),\n",
       " (['고', '강도', '도시락', '용기'], '포장용품')]"
      ]
     },
     "execution_count": 360,
     "metadata": {},
     "output_type": "execute_result"
    }
   ],
   "source": [
    "train_mor = [(okt.morphs(x[0]), x[1]) for x in train]\n",
    "train_mor[:5]"
   ]
  },
  {
   "cell_type": "code",
   "execution_count": 361,
   "metadata": {
    "scrolled": true
   },
   "outputs": [],
   "source": [
    "all_words = set([ t for x in train_mor for t in x[0]])\n",
    "# all_words"
   ]
  },
  {
   "cell_type": "code",
   "execution_count": 362,
   "metadata": {},
   "outputs": [],
   "source": [
    "def term_exists(doc):\n",
    "    return {word : (word in set(doc)) for word in all_words}"
   ]
  },
  {
   "cell_type": "code",
   "execution_count": 439,
   "metadata": {},
   "outputs": [],
   "source": [
    "train_data = [(term_exists(d), c) for d, c in train_mor]"
   ]
  },
  {
   "cell_type": "code",
   "execution_count": 447,
   "metadata": {
    "scrolled": false
   },
   "outputs": [],
   "source": [
    "# train_data[0][0]"
   ]
  },
  {
   "cell_type": "code",
   "execution_count": 364,
   "metadata": {},
   "outputs": [
    {
     "name": "stdout",
     "output_type": "stream",
     "text": [
      "Most Informative Features\n",
      "                      용기 = True             포장용품 : 편의식/가공 =    300.4 : 1.0\n",
      "                       용 = True            축산/계란 : 포장용품   =    172.3 : 1.0\n",
      "                       돈 = True            축산/계란 : 편의식/가공 =    160.0 : 1.0\n",
      "                      소스 = True           소스/양념/ : 축산/계란  =    120.4 : 1.0\n",
      "                       산 = True            야채/채소 : 편의식/가공 =    114.1 : 1.0\n",
      "                       면 = True           밀가루/라면 : 냉동상품   =    102.1 : 1.0\n",
      "                       내 = True            야채/채소 : 포장용품   =    101.9 : 1.0\n",
      "                      백설 = True           식용유/설탕 : 냉동상품   =     98.6 : 1.0\n",
      "                       식 = True           밀가루/라면 : 포장용품   =     87.4 : 1.0\n",
      "                       왕 = True           밀가루/라면 : 포장용품   =     76.7 : 1.0\n"
     ]
    }
   ],
   "source": [
    "import nltk\n",
    "classifier = nltk.NaiveBayesClassifier.train(train_data)\n",
    "classifier.show_most_informative_features()"
   ]
  },
  {
   "cell_type": "code",
   "execution_count": 365,
   "metadata": {},
   "outputs": [],
   "source": [
    "test_mor = [okt.morphs(x) for x in t_test]"
   ]
  },
  {
   "cell_type": "code",
   "execution_count": 366,
   "metadata": {},
   "outputs": [],
   "source": [
    "test_data = [term_exists(x) for x in test_mor]"
   ]
  },
  {
   "cell_type": "code",
   "execution_count": 367,
   "metadata": {
    "scrolled": true
   },
   "outputs": [],
   "source": [
    "test_cate = [classifier.classify(x) for x in test_data]"
   ]
  },
  {
   "cell_type": "code",
   "execution_count": 368,
   "metadata": {},
   "outputs": [
    {
     "data": {
      "text/plain": [
       "0.821376281112738"
      ]
     },
     "execution_count": 368,
     "metadata": {},
     "output_type": "execute_result"
    }
   ],
   "source": [
    "accuracy_score(c_test, test_cate)"
   ]
  },
  {
   "cell_type": "code",
   "execution_count": 370,
   "metadata": {},
   "outputs": [
    {
     "name": "stdout",
     "output_type": "stream",
     "text": [
      "[[ 42   0   8   0   0   0   0   0   0   0   0   0   0   0   0   9]\n",
      " [  0   0   1   0   0   0   0   1   0   0   0   0   0   0   1   0]\n",
      " [  0   0 132   0   0   0   3   0   0   0   0   0   2   4   3   2]\n",
      " [  0   0  11   0   0   0   1   1   0   0   0   0   0   0   1   1]\n",
      " [  0   0   2   0   7   0   6   0   0   0   0   0   1   0   3   3]\n",
      " [  0   0   2   0   0   6   2   4   0   0   1   0   0   1   4   3]\n",
      " [  0   0   2   0   0   0 113   0   0   0   0   0   0   0   3   4]\n",
      " [  0   0   3   0   0   0   1  91   0   0   0   0   0   2   2   6]\n",
      " [  0   0  11   0   0   0   5   1   0   0   0   0   0   0   1   2]\n",
      " [  0   0   5   0   0   0   0   0   0   4   0   0   2   0   2   4]\n",
      " [  0   0   1   0   0   0   0   0   0   0  35   0   0   0   1   0]\n",
      " [  0   0   4   0   0   0   1   0   0   0   0   0   0   0   8   0]\n",
      " [  0   0   0   0   0   0  11   0   0   0   0   0  34   0   1   3]\n",
      " [  0   0   8   0   0   0   1   0   0   0   0   0   0  71   5   5]\n",
      " [  0   0  18   0   1   0   6   8   0   0   0   0   1   0 176  18]\n",
      " [  5   0   1   0   0   0   0   0   0   0   0   0   0   0   0 411]]\n"
     ]
    }
   ],
   "source": [
    "cnf = confusion_matrix(c_test, test_cate)\n",
    "print(cnf)"
   ]
  },
  {
   "cell_type": "code",
   "execution_count": 372,
   "metadata": {},
   "outputs": [
    {
     "data": {
      "text/plain": [
       "'편의식/가공기타'"
      ]
     },
     "execution_count": 372,
     "metadata": {},
     "output_type": "execute_result"
    }
   ],
   "source": [
    "classifier.classify(term_exists(okt.morphs('[목우촌] 주부9단 김밥햄 340g(170g*2개입)')))"
   ]
  },
  {
   "cell_type": "code",
   "execution_count": 373,
   "metadata": {},
   "outputs": [
    {
     "data": {
      "text/plain": [
       "'축산/계란'"
      ]
     },
     "execution_count": 373,
     "metadata": {},
     "output_type": "execute_result"
    }
   ],
   "source": [
    "classifier.classify(term_exists(okt.morphs('[국내산] 유명산지 햇사과 5~8입/봉')))"
   ]
  },
  {
   "cell_type": "markdown",
   "metadata": {},
   "source": [
    "> naivebayes 였음에도 불구하고 accuracy가 높아 테스트를 해보았으나.. 이또한 애매했다.."
   ]
  },
  {
   "cell_type": "code",
   "execution_count": null,
   "metadata": {},
   "outputs": [],
   "source": []
  }
 ],
 "metadata": {
  "kernelspec": {
   "display_name": "Python 3",
   "language": "python",
   "name": "python3"
  },
  "language_info": {
   "codemirror_mode": {
    "name": "ipython",
    "version": 3
   },
   "file_extension": ".py",
   "mimetype": "text/x-python",
   "name": "python",
   "nbconvert_exporter": "python",
   "pygments_lexer": "ipython3",
   "version": "3.7.7"
  }
 },
 "nbformat": 4,
 "nbformat_minor": 4
}
