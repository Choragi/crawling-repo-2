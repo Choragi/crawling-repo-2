{
 "cells": [
  {
   "cell_type": "markdown",
   "metadata": {},
   "source": [
    "### 데이터 가져오기"
   ]
  },
  {
   "cell_type": "code",
   "execution_count": 1,
   "metadata": {},
   "outputs": [],
   "source": [
    "from scrapy.http import TextResponse\n",
    "from fake_useragent import UserAgent\n",
    "import re"
   ]
  },
  {
   "cell_type": "code",
   "execution_count": 2,
   "metadata": {},
   "outputs": [],
   "source": [
    "url = \"http://emart.ssg.com/disp/category.ssg?dispCtgId=6000097635&page=2\""
   ]
  },
  {
   "cell_type": "code",
   "execution_count": 3,
   "metadata": {},
   "outputs": [],
   "source": [
    "req = requests.get(url, headers={\"User-Agent\": UserAgent().chrome})"
   ]
  },
  {
   "cell_type": "code",
   "execution_count": 4,
   "metadata": {},
   "outputs": [],
   "source": [
    "response = TextResponse(req.url, body=req.text, encoding=\"utf-8\")"
   ]
  },
  {
   "cell_type": "code",
   "execution_count": 5,
   "metadata": {},
   "outputs": [
    {
     "data": {
      "text/plain": [
       "<200 http://emart.ssg.com/disp/category.ssg?dispCtgId=6000097635&page=2>"
      ]
     },
     "execution_count": 5,
     "metadata": {},
     "output_type": "execute_result"
    }
   ],
   "source": [
    "response"
   ]
  },
  {
   "cell_type": "markdown",
   "metadata": {},
   "source": [
    "### 마지막 페이지 구하는 함수"
   ]
  },
  {
   "cell_type": "code",
   "execution_count": 6,
   "metadata": {},
   "outputs": [
    {
     "name": "stdout",
     "output_type": "stream",
     "text": [
      "itemLister.changePage(24);return false;\n"
     ]
    },
    {
     "data": {
      "text/plain": [
       "25"
      ]
     },
     "execution_count": 6,
     "metadata": {},
     "output_type": "execute_result"
    }
   ],
   "source": [
    "last_page = response.xpath('//*[@id=\"area_itemlist\"]/div[2]/a/@onclick').extract()[-1]\n",
    "print(last_page)\n",
    "last_p = int(re.findall('\\d+', last_page)[0]) +1\n",
    "last_p"
   ]
  },
  {
   "cell_type": "code",
   "execution_count": 7,
   "metadata": {},
   "outputs": [],
   "source": [
    "def last_page(category):\n",
    "    url = \"http://emart.ssg.com/disp/category.ssg?dispCtgId={}\".format(category)\n",
    "    req = requests.get(url, headers={\"User-Agent\": UserAgent().chrome})\n",
    "    time.sleep(5)\n",
    "    response = TextResponse(req.url, body=req.text, encoding=\"utf-8\")\n",
    "\n",
    "    # 페이지 수가 2개 이상인 카테고리\n",
    "    try:\n",
    "        last = response.xpath('//*[@id=\"area_itemlist\"]/div[2]/a/@onclick').extract()[-1]\n",
    "        last_page = int(re.findall('\\d+', last)[0]) +1\n",
    "        print(\"끝페이지 : \", last_page-1)\n",
    "        \n",
    "    # 페이지 수가 1개인 카테고리\n",
    "    except:\n",
    "        last_page = 2\n",
    "        print(\"끝페이지: \", last_page-1)\n",
    "\n",
    "    return last_page"
   ]
  },
  {
   "cell_type": "code",
   "execution_count": 8,
   "metadata": {},
   "outputs": [
    {
     "name": "stdout",
     "output_type": "stream",
     "text": [
      "끝페이지:  1\n"
     ]
    },
    {
     "data": {
      "text/plain": [
       "2"
      ]
     },
     "execution_count": 8,
     "metadata": {},
     "output_type": "execute_result"
    }
   ],
   "source": [
    "# 함수 확인\n",
    "\n",
    "last_page(\"6000097654\")"
   ]
  },
  {
   "cell_type": "markdown",
   "metadata": {},
   "source": [
    "### title, price, link 가져오는 함수"
   ]
  },
  {
   "cell_type": "code",
   "execution_count": 9,
   "metadata": {
    "scrolled": true
   },
   "outputs": [],
   "source": [
    "def get_items(category, last_p):\n",
    "    dfs = pd.DataFrame()\n",
    "\n",
    "    for p in range(1, last_p): \n",
    "        url = \"http://emart.ssg.com/disp/category.ssg?dispCtgId={}&page={}\".format(category, p)\n",
    "\n",
    "        req = requests.get(url, headers={\"User-Agent\": UserAgent().chrome})\n",
    "        time.sleep(5)\n",
    "        response = TextResponse(req.url, body=req.text, encoding=\"utf-8\")\n",
    "\n",
    "        elements = response.xpath('//*[@id=\"ty_thmb_view\"]/ul/li')\n",
    "        print(\"페이지 상품수 : \", len(elements), \"\\t\", \"페이지 번호\", p)\n",
    "\n",
    "        # title\n",
    "        titles = response.xpath('//*[@id=\"ty_thmb_view\"]/ul/li/div[@class=\"cunit_info\"]/div[@class=\"cunit_md notranslate\"]/div[@class=\"title\"]/a/em[@class=\"tx_ko\"]/text()').extract()\n",
    "\n",
    "        # price\n",
    "        price = response.xpath('//*[@id=\"ty_thmb_view\"]/ul/li/div[@class=\"cunit_info\"]/div[@class=\"cunit_price notranslate\"]/div[@class=\"opt_price\"]/em[@class=\"ssg_price\"]/text()').extract()\n",
    "\n",
    "        # link\n",
    "        links = response.xpath('//*[@id=\"ty_thmb_view\"]/ul/li/div[1]/div[2]/a/@href').extract()\n",
    "        links = [response.urljoin(link) for link in links]\n",
    "\n",
    "\n",
    "        df = pd.DataFrame({\"titles\": titles, \"price\": price, \"links\": links})\n",
    "        dfs = pd.concat([dfs, df])\n",
    "\n",
    "    dfs.reset_index(drop=True).tail()\n",
    "    \n",
    "    return dfs"
   ]
  },
  {
   "cell_type": "code",
   "execution_count": 10,
   "metadata": {},
   "outputs": [
    {
     "name": "stdout",
     "output_type": "stream",
     "text": [
      "페이지 상품수 :  80 \t 페이지 번호 1\n"
     ]
    }
   ],
   "source": [
    "dfs = get_items(\"6000095501\", 2)"
   ]
  },
  {
   "cell_type": "code",
   "execution_count": 11,
   "metadata": {},
   "outputs": [
    {
     "data": {
      "text/plain": [
       "(80, 80, 80)"
      ]
     },
     "execution_count": 11,
     "metadata": {},
     "output_type": "execute_result"
    }
   ],
   "source": [
    "# 컬럼별 아이템 수 확인\n",
    "\n",
    "len(dfs[\"titles\"]), len(dfs[\"price\"]), len(dfs[\"links\"])"
   ]
  },
  {
   "cell_type": "markdown",
   "metadata": {},
   "source": [
    "### price per gram, minimum gram 뽑아내기"
   ]
  },
  {
   "cell_type": "markdown",
   "metadata": {},
   "source": [
    "#### Price per gram => Xpath 이용"
   ]
  },
  {
   "cell_type": "code",
   "execution_count": 12,
   "metadata": {},
   "outputs": [],
   "source": [
    "test_url = \"http://emart.ssg.com/disp/category.ssg?dispCtgId=6000097653\"\n",
    "test_req = requests.get(test_url, headers={\"User-Agent\": UserAgent().chrome})\n",
    "test_res = TextResponse(test_req.url, body=test_req.text, encoding=\"utf-8\")"
   ]
  },
  {
   "cell_type": "code",
   "execution_count": 13,
   "metadata": {},
   "outputs": [
    {
     "data": {
      "text/plain": [
       "80"
      ]
     },
     "execution_count": 13,
     "metadata": {},
     "output_type": "execute_result"
    }
   ],
   "source": [
    "len(test_res.xpath('//*[@id=\"ty_thmb_view\"]/ul/li'))"
   ]
  },
  {
   "cell_type": "code",
   "execution_count": 14,
   "metadata": {},
   "outputs": [
    {
     "data": {
      "text/plain": [
       "21"
      ]
     },
     "execution_count": 14,
     "metadata": {},
     "output_type": "execute_result"
    }
   ],
   "source": [
    "len(test_res.xpath('//*[@id=\"ty_thmb_view\"]/ul/li/div[@class=\"cunit_info\"]/div[@class =\"cunit_prw\"]/div/text()').extract())"
   ]
  },
  {
   "cell_type": "code",
   "execution_count": 15,
   "metadata": {},
   "outputs": [],
   "source": [
    "idx = range(0,80)\n",
    "pprs = []\n",
    "for n in idx:\n",
    "    ppr = test_res.xpath('//*[@id=\"ty_thmb_view\"]/ul/li[{}]/div[@class=\"cunit_info\"]/div[@class =\"cunit_prw\"]/div/text()'.format(n)).extract()\n",
    "    ppr = [\"-\" if ppr == [] else ppr[0]]\n",
    "    pprs.append(ppr[0])"
   ]
  },
  {
   "cell_type": "code",
   "execution_count": 16,
   "metadata": {
    "scrolled": true
   },
   "outputs": [
    {
     "data": {
      "text/plain": [
       "(80,\n",
       " ['-',\n",
       "  '-',\n",
       "  '(10g당:242원)',\n",
       "  '(10g당:173원)',\n",
       "  '(10g당:179원)',\n",
       "  '(10g당:223원)',\n",
       "  '(10g당:235원)',\n",
       "  '(10g당:180원)',\n",
       "  '(10g당:264원)',\n",
       "  '(10g당:232원)',\n",
       "  '(10g당:250원)',\n",
       "  '(10g당:165원)',\n",
       "  '(10g당:250원)',\n",
       "  '(10g당:142원)',\n",
       "  '(10g당:315원)',\n",
       "  '(10g당:221원)',\n",
       "  '-',\n",
       "  '-',\n",
       "  '-',\n",
       "  '-',\n",
       "  '-',\n",
       "  '(1000ea당:4,300원)',\n",
       "  '-',\n",
       "  '(100ea당:1,608원)',\n",
       "  '(454g당:6,425원)',\n",
       "  '-',\n",
       "  '(1ea당:13,900원)',\n",
       "  '-',\n",
       "  '-',\n",
       "  '-',\n",
       "  '-',\n",
       "  '-',\n",
       "  '-',\n",
       "  '-',\n",
       "  '-',\n",
       "  '-',\n",
       "  '-',\n",
       "  '-',\n",
       "  '-',\n",
       "  '-',\n",
       "  '-',\n",
       "  '-',\n",
       "  '(100g당:3,143원)',\n",
       "  '-',\n",
       "  '(10g당:316원)',\n",
       "  '(10g당:388원)',\n",
       "  '-',\n",
       "  '-',\n",
       "  '-',\n",
       "  '-',\n",
       "  '-',\n",
       "  '-',\n",
       "  '-',\n",
       "  '-',\n",
       "  '-',\n",
       "  '-',\n",
       "  '-',\n",
       "  '-',\n",
       "  '-',\n",
       "  '-',\n",
       "  '-',\n",
       "  '-',\n",
       "  '-',\n",
       "  '-',\n",
       "  '-',\n",
       "  '-',\n",
       "  '-',\n",
       "  '-',\n",
       "  '-',\n",
       "  '-',\n",
       "  '-',\n",
       "  '-',\n",
       "  '-',\n",
       "  '-',\n",
       "  '-',\n",
       "  '-',\n",
       "  '-',\n",
       "  '-',\n",
       "  '-',\n",
       "  '-'])"
      ]
     },
     "execution_count": 16,
     "metadata": {},
     "output_type": "execute_result"
    }
   ],
   "source": [
    "len(pprs), pprs"
   ]
  },
  {
   "cell_type": "markdown",
   "metadata": {},
   "source": [
    "#### minimum gram =>  Regex 이용"
   ]
  },
  {
   "cell_type": "code",
   "execution_count": 17,
   "metadata": {},
   "outputs": [
    {
     "name": "stdout",
     "output_type": "stream",
     "text": [
      "페이지 상품수 :  80 \t 페이지 번호 1\n"
     ]
    }
   ],
   "source": [
    "# 유제품 카테고리\n",
    "\n",
    "category = \"6000095501\"\n",
    "last_p = 2\n",
    "dfs = get_items(category, last_p)"
   ]
  },
  {
   "cell_type": "code",
   "execution_count": 18,
   "metadata": {},
   "outputs": [],
   "source": [
    "# ml, ML, l, L 뽑기\n",
    "dfs[\"test\"] = dfs[\"titles\"].apply(lambda data: data.replace(\" \", \"\"))\n",
    "dfs[\"test\"] = dfs[\"test\"].apply(lambda data: re.findall('(\\d+.?\\d?[l|L]\\*?x?X?\\d?\\d?)', data)[::-1][0] if re.findall('(\\d+.?\\d?[l|L]\\*?x?X?\\d?\\d?)', data) else data)"
   ]
  },
  {
   "cell_type": "code",
   "execution_count": 19,
   "metadata": {
    "scrolled": true
   },
   "outputs": [
    {
     "data": {
      "text/plain": [
       "0                                     [서울우유] 서울우유 2.3L\n",
       "1                                 [피코크] 우유(1등급) 1000ml\n",
       "2                     [서울우유] 후레쉬 밀크 기획(900ml*2) 1800ml\n",
       "3                             [서울우유] 비요뜨 초코링 (143g*2개)\n",
       "4                             [서울우유] 서울우유 1000ml 나100%\n",
       "5                          [노브랜드] 마시는 요구르트 65ml * 15개입\n",
       "6                           [한국야쿠르트] 야쿠르트 라이트 65mlX15개\n",
       "7                            [매일] 우유 오리지널 후레쉬팩 900ML*2\n",
       "8                           [서울우유] 목장의 신선함이 살아있는 우유 1L\n",
       "9                      [서울우유] 체다 슬라이스 치즈(300g2개입) 600g\n",
       "10                          [서울우유] 커피 삼각 포리 (200ml*3개)\n",
       "11        ※점포별 구성상이 [덴마크] 대니쉬 the건강한우유(900ml*2) 1800ml\n",
       "12                              [남양] 고소한 저지방우유 900ml*2\n",
       "13                                   [피코크] 그릭 요거트 450g\n",
       "14                                [매일] 매일 바이오 플레인 450g\n",
       "15                                    소와나무 체다치즈클래식204g\n",
       "16                            [남양] 떠먹는 불가리스 기획 85g*10입\n",
       "17                               [매일] 소화가 잘되는 우유 930ml\n",
       "18                                           서울우유 1.8L\n",
       "19                                [서울우유] 짜요짜요 딸기맛 240g\n",
       "20                        [빙그레] 바나나맛 우유(240ml4개) 960ml\n",
       "21                            [한국야쿠르트] 윌 오리지날 150mlX5개\n",
       "22                                    [서울우유] 생크림 500ml\n",
       "23    [동원 소와나무] 비피더스 명장 기획(140ml*12/점포별 구성 상이함) 1680ml\n",
       "24                                [서울우유] 짜요짜요 포도맛 240g\n",
       "25                           [남양] 드빈치 자연방목치즈 255g*2입기획\n",
       "26                  [빙그레] 요플레 10개입 기획 85g*10 (맛은 랜덤배송)\n",
       "27                                  [피코크] 플레인 요거트 900g\n",
       "28                                [서울우유] 저지방 우유 1000ml\n",
       "29                                [서울우유] 프레시 버터 80g*3입\n",
       "Name: titles, dtype: object"
      ]
     },
     "execution_count": 19,
     "metadata": {},
     "output_type": "execute_result"
    }
   ],
   "source": [
    "dfs[\"titles\"].head(30)"
   ]
  },
  {
   "cell_type": "code",
   "execution_count": 20,
   "metadata": {
    "scrolled": true
   },
   "outputs": [
    {
     "data": {
      "text/plain": [
       "0                             2.3L\n",
       "1                           1000ml\n",
       "2                           1800ml\n",
       "3            [서울우유]비요뜨초코링(143g*2개)\n",
       "4                           1000ml\n",
       "5                          65ml*15\n",
       "6                          65mlX15\n",
       "7                          900ML*2\n",
       "8                               1L\n",
       "9      [서울우유]체다슬라이스치즈(300g2개입)600g\n",
       "10                         200ml*3\n",
       "11                          1800ml\n",
       "12                         900ml*2\n",
       "13                  [피코크]그릭요거트450g\n",
       "14                [매일]매일바이오플레인450g\n",
       "15                 소와나무체다치즈클래식204g\n",
       "16            [남양]떠먹는불가리스기획85g*10입\n",
       "17                           930ml\n",
       "18                            1.8L\n",
       "19               [서울우유]짜요짜요딸기맛240g\n",
       "20                           960ml\n",
       "21                         150mlX5\n",
       "22                           500ml\n",
       "23                          1680ml\n",
       "24               [서울우유]짜요짜요포도맛240g\n",
       "25          [남양]드빈치자연방목치즈255g*2입기획\n",
       "26    [빙그레]요플레10개입기획85g*10(맛은랜덤배송)\n",
       "27                 [피코크]플레인요거트900g\n",
       "28                          1000ml\n",
       "29               [서울우유]프레시버터80g*3입\n",
       "Name: test, dtype: object"
      ]
     },
     "execution_count": 20,
     "metadata": {},
     "output_type": "execute_result"
    }
   ],
   "source": [
    "dfs[\"test\"].head(30)"
   ]
  },
  {
   "cell_type": "code",
   "execution_count": 21,
   "metadata": {},
   "outputs": [
    {
     "name": "stdout",
     "output_type": "stream",
     "text": [
      "페이지 상품수 :  80 \t 페이지 번호 1\n"
     ]
    }
   ],
   "source": [
    "# 냉동과일 카테고리\n",
    "\n",
    "category_2 = \"6000096009\"\n",
    "last_p = 2\n",
    "dfs_2 = get_items(category_2, last_p)"
   ]
  },
  {
   "cell_type": "code",
   "execution_count": 22,
   "metadata": {},
   "outputs": [],
   "source": [
    "# kg, KG, g, G 뽑기\n",
    "\n",
    "dfs_2[\"test\"] = dfs_2[\"titles\"].apply(lambda data: data.replace(\" \", \"\"))\n",
    "dfs_2[\"test\"] = dfs_2[\"test\"].apply(lambda data: re.findall('(\\d+.?\\d?k?K?[g|G]\\*?x?X?\\d?\\d?)', data)[::-1][0] if re.findall('(\\d+.?\\d?k?K?[g|G]\\*?x?X?\\d?\\d?)', data) else data)"
   ]
  },
  {
   "cell_type": "code",
   "execution_count": 23,
   "metadata": {
    "scrolled": true
   },
   "outputs": [
    {
     "data": {
      "text/plain": [
       "0            [미국산] 냉동 블루베리 1.5kg/봉\n",
       "1             [페루산] 냉동 애플망고 2.27kg\n",
       "2           [미국산] 냉동 블루베리 1.13kg/팩\n",
       "3              [페루산] 냉동 애플 망고 300g\n",
       "4     [국내산] 두번 엄선한 국산 냉동딸기1kg x 2봉\n",
       "5               [베트남산] 스위트망고 1.3kg\n",
       "6                 냉동 유기농 블루베리 700g\n",
       "7                 두번 엄선한 오색베리 500g\n",
       "8                [칠레산] 냉동체리 700g/봉\n",
       "9                   냉동블루베리+망고 기획세트\n",
       "10            칠레산 냉동 트리플베리 1kg (팩)\n",
       "11             칠레산 냉동 블루베리 1kg (팩)\n",
       "12          [생활앤] 베트남산 냉동망고 1kg(팩)\n",
       "13              페루산 냉동애플망고 1kg (팩)\n",
       "14             미국산 냉동 블루베리 1kg (팩)\n",
       "15                  조각 파인애플 300g/팩\n",
       "16          [자연원] 국산 냉동 딸기 1kg *2봉\n",
       "17          [코스타리카산] 냉동 파인애플 1.3kg\n",
       "18                 냉동 딸기바나나 믹스 1KG\n",
       "19                    유기농 냉동딸기500g\n",
       "20          [자연원] 페루산 아보카도 500g(팩)\n",
       "21          생활앤 페루산 냉동딸기 1.3kg (팩)\n",
       "22          냉동 파인애플 1kg + 냉동망고 1kg\n",
       "23           페루산 냉동 잉카블루베리 500g(팩)\n",
       "24               껍질벗긴 아이스홍시 70g*6입\n",
       "25          [자연원] 칠레산 냉동체리 700g(팩)\n",
       "26               [국내산] 냉동오디 500g/봉\n",
       "27       [자연원]페루산 냉동 왕 블루베리 1kg(팩)\n",
       "28     냉동과일 미니팩 3종(블루베리, 애플망고, 딸기)\n",
       "29       [생활앤] 그리스산 냉동 복숭아 1kg (팩)\n",
       "Name: titles, dtype: object"
      ]
     },
     "execution_count": 23,
     "metadata": {},
     "output_type": "execute_result"
    }
   ],
   "source": [
    "dfs_2[\"titles\"].head(30)"
   ]
  },
  {
   "cell_type": "code",
   "execution_count": 24,
   "metadata": {},
   "outputs": [
    {
     "data": {
      "text/plain": [
       "array(['1.5kg', '27kg', '13kg', '300g', '1kgx2', '1.3kg', '700g', '500g',\n",
       "       '700g', '냉동블루베리+망고기획세트', '1kg', '1kg', '1kg', '1kg', '1kg', '300g',\n",
       "       '1kg*2', '1.3kg', '1KG', '500g', '500g', '1.3kg', '1kg', '500g',\n",
       "       '70g*6', '700g', '500g', '1kg', '냉동과일미니팩3종(블루베리,애플망고,딸기)', '1kg',\n",
       "       '450g', '1.5kg', '1kg', '700g', '750g', '500g', '500g',\n",
       "       '[자연원]베트남산프룻바망고10080*6입', '300g', '1kg', '80g', '400g', '220g',\n",
       "       'PICKUP사과믹스', '1kg', '200g', '1kg', '500g', '13kgx3', '1kg',\n",
       "       '1.3kgx2', '13kgx1', '1kgx2', '908gX1', '500gx1', '700gx3', '500g',\n",
       "       '1kg', '1kg', '500gx3', '3kg', '1kg', '13kgx2', '400gx3', '1kgx2',\n",
       "       '1KG', '1kgx2', '60gX25', '2kg', '1.3kgx1', '1kg', '1kg', '1kgx4',\n",
       "       '[냉동과일1+1]패션후르츠/리치/망고스틴/블루베리등13종', '1kgx2', '1kgx3', '1kg', '1kg',\n",
       "       '1kg', '1kgx4'], dtype=object)"
      ]
     },
     "execution_count": 24,
     "metadata": {},
     "output_type": "execute_result"
    }
   ],
   "source": [
    "dfs_2[\"test\"].values"
   ]
  },
  {
   "cell_type": "markdown",
   "metadata": {},
   "source": [
    "#### [min_gram] 컬럼 만들기 => IF, ELIF, ELSE"
   ]
  },
  {
   "cell_type": "code",
   "execution_count": 25,
   "metadata": {},
   "outputs": [],
   "source": [
    "def add_min_gram(data):\n",
    "    \n",
    "    data = data.replace(\" \", \"\")\n",
    "\n",
    "    if re.findall('(\\d+.?\\d?[l|L]\\*?x?X?\\d?\\d?)', data):\n",
    "        data = re.findall('(\\d+.?\\d?[l|L]\\*?x?X?\\d?\\d?)', data)[::-1][0]\n",
    "\n",
    "    elif re.findall('(\\d+.?\\d?k?K?[g|G]\\*?x?X?\\d?\\d?)', data):\n",
    "        data = re.findall('(\\d+.?\\d?k?K?[g|G]\\*?x?X?\\d?\\d?)', data)[::-1][0]    \n",
    "        \n",
    "    else:\n",
    "        data = \"-\"\n",
    "        \n",
    "    return data"
   ]
  },
  {
   "cell_type": "code",
   "execution_count": 26,
   "metadata": {},
   "outputs": [],
   "source": [
    "dfs[\"test\"] = dfs[\"titles\"].apply(lambda data: add_min_gram(data))"
   ]
  },
  {
   "cell_type": "code",
   "execution_count": 27,
   "metadata": {
    "scrolled": true
   },
   "outputs": [
    {
     "data": {
      "text/plain": [
       "array(['2.3L', '1000ml', '1800ml', '143g*2', '1000ml', '65ml*15',\n",
       "       '65mlX15', '900ML*2', '1L', '600g', '200ml*3', '1800ml', '900ml*2',\n",
       "       '450g', '450g', '204g', '85g*10', '930ml', '1.8L', '240g', '960ml',\n",
       "       '150mlX5', '500ml', '1680ml', '240g', '255g*2', '85g*10', '900g',\n",
       "       '1000ml', '80g*3', '930mlx2', '900ml', '143g*2', '140ml20',\n",
       "       '900ml', '200g', '900g', '1200ml', '136g*2', '80g4', '110mlX4',\n",
       "       '125g', '950ml', '1300ml', '500g', '200ml*3', '1800ml', '85g4',\n",
       "       '1000ml', '240g', '2.3L', '90g8', '190ml*20', '600ml', '200g',\n",
       "       '900g', '400g', '200ml*3', '95g8', '150mlX5', '85g*4', '1200ml',\n",
       "       '900ML*2', '144g', '200g', '450ml', '190ml16', '2.3L', '180g',\n",
       "       '200ml*3', '100mlX5', '1440ml', '3130ml*4', '600ml', '450g', '1kg',\n",
       "       '930ml', '930ml', '83g*10', '900g'], dtype=object)"
      ]
     },
     "execution_count": 27,
     "metadata": {},
     "output_type": "execute_result"
    }
   ],
   "source": [
    "dfs[\"test\"].values"
   ]
  },
  {
   "cell_type": "markdown",
   "metadata": {},
   "source": [
    "### 카테고리 번호 => 이름 변환 함수"
   ]
  },
  {
   "cell_type": "code",
   "execution_count": 28,
   "metadata": {},
   "outputs": [],
   "source": [
    "def category_name(category_num):\n",
    "    names = {\"냉동상품\" : [\"6000097651\",\"6000097652\",\"6000097653\",\"6000097640\",\"6000097639\",\"6000097702\",\"6000097703\",\"6000097704\",\"6000097705\",\"6000097706\",\"6000097707\"],\\\n",
    "         \"냉장식품\" : [\"6000097656\",\"6000097658\",\"6000097669\",\"6000097671\",\"6000097670\"],\\\n",
    "         \"식용유/설탕/소금\": ['6000095598',\"6000095711\",\"6000095727\",\"6000095709\"],\\\n",
    "         \"장류/조미료\" : [\"6000095605\",\"6000095607\",\"6000095608\",\"6000095604\",\"6000095724\",\"6000095606\",\"6000095712\",\"6000095726\",\"6000095728\",\"6000095729\",\"6000095713\",\"6000095714\",\"6000095715\"],\\\n",
    "         \"소스/양념/육수\" : [\"6000095591\",\"6000095590\",\"6000095592\",\"6000095594\",\"6000095609\",\"6000095725\",\"6000095612\",\"6000095593\"],\\\n",
    "         \"밀가루/라면/믹스류\": [\"6000095595\",\"6000097134\"],\\\n",
    "         \"편의식/가공기타\" : [\"6000097196\",\"6000097637\",\"6000097136\",\"6000095508\",\"6000097138\",\"6000097137\",\"6000095862\",\"6000095506\",\"6000096326\"],\\\n",
    "         \"반찬류\" : [\"6000097506\", \"6000097507\"],\\\n",
    "         \"과일\" : [\"6000095796\", \"6000095794\"],\\\n",
    "         \"포장용기\" : [\"0006510363\",\"0006510361\",\"0006510364\",\"0006510365\",\"0006510366\",\"0006510546\"],\\\n",
    "         \"가게위생용품\" : [\"0006510362\",\"0006510367\"],\\\n",
    "         \"유제품\": \"6000095501\",\\\n",
    "         \"야채/채소\" : \"6000095740\",\\\n",
    "         \"쌀/잡곡/견과\" : \"6000095498\",\\\n",
    "         \"수산/건어물\" : \"6000095500\",\\\n",
    "         \"축산/계란\" : \"6000095499\"}\n",
    "    for name, num in names.items():\n",
    "        if num == category_num:\n",
    "            return name       "
   ]
  },
  {
   "cell_type": "code",
   "execution_count": 29,
   "metadata": {},
   "outputs": [
    {
     "data": {
      "text/plain": [
       "'축산/계란'"
      ]
     },
     "execution_count": 29,
     "metadata": {},
     "output_type": "execute_result"
    }
   ],
   "source": [
    "# 함수 확인\n",
    "\n",
    "category_name(\"6000095499\")"
   ]
  },
  {
   "cell_type": "markdown",
   "metadata": {},
   "source": [
    "### 크롤링 Class 생성"
   ]
  },
  {
   "cell_type": "code",
   "execution_count": 30,
   "metadata": {},
   "outputs": [],
   "source": [
    "# categories = [\"6000097651\",\"6000097652\",\"6000097653\",\"6000097640\",\"6000097639\",\"6000097702\",\"6000097703\",\"6000097704\",\"6000097705\",\"6000097706\",\"6000097707\",\"6000097656\",\"6000097658\",\"6000097669\",\"6000097671\",\"6000097670\",'6000095598',\"6000095711\",\"6000095727\",\"6000095709\", \"6000095605\",\"6000095607\",\"6000095608\",\"6000095604\",\"6000095724\",\"6000095606\",\"6000095712\",\"6000095726\",\"6000095728\",\"6000095729\",\"6000095713\",\"6000095714\",\"6000095715\", \"6000095591\",\"6000095590\",\"6000095592\",\"6000095594\",\"6000095609\",\"6000095725\",\"6000095612\",\"6000095593\", \"6000095595\",\"6000097134\", \"6000097196\",\"6000097637\",\"6000097136\",\"6000095508\",\"6000097138\",\"6000097137\",\"6000095862\",\"6000095506\",\"6000096326\", \"6000097506\", \"6000097507\", \"6000095796\", \"6000095794\", \"0006510363\",\"0006510361\",\"0006510364\",\"0006510365\",\"0006510366\",\"0006510546\", \"0006510362\",\"0006510367\",\"6000095501\", \"6000095740\", \"6000095498\", \"6000095500\", \"6000095499\"]"
   ]
  },
  {
   "cell_type": "code",
   "execution_count": 31,
   "metadata": {},
   "outputs": [
    {
     "name": "stdout",
     "output_type": "stream",
     "text": [
      "Overwriting emart_local.py\n"
     ]
    }
   ],
   "source": [
    "%%writefile emart_local.py\n",
    "\n",
    "from scrapy.http import TextResponse\n",
    "from fake_useragent import UserAgent\n",
    "import re\n",
    "import time\n",
    "import pandas as pd\n",
    "\n",
    "from sqlalchemy import *\n",
    "import MySQLdb\n",
    "import configparser\n",
    "\n",
    "\n",
    "class Emart:\n",
    "    def __init__(self):\n",
    "        self.test_cate = [\"6000095695\"]\n",
    "        self.categories = [\"6000097651\",\"6000097652\",\"6000097653\",\"6000097640\",\"6000097639\",\"6000097702\",\"6000097703\",\"6000097704\",\"6000097705\",\"6000097706\",\"6000097707\",\"6000097656\",\"6000097658\",\"6000097669\",\"6000097671\",\"6000097670\",'6000095598',\"6000095711\",\"6000095727\",\"6000095709\", \"6000095605\",\"6000095607\",\"6000095608\",\"6000095604\",\"6000095724\",\"6000095606\",\"6000095712\",\"6000095726\",\"6000095728\",\"6000095729\",\"6000095713\",\"6000095714\",\"6000095715\", \"6000095591\",\"6000095590\",\"6000095592\",\"6000095594\",\"6000095609\",\"6000095725\",\"6000095612\",\"6000095593\", \"6000095595\",\"6000097134\", \"6000097196\",\"6000097637\",\"6000097136\",\"6000095508\",\"6000097138\",\"6000097137\",\"6000095862\",\"6000095506\",\"6000096326\", \"6000097506\", \"6000097507\", \"6000095796\", \"6000095794\", \"0006510363\",\"0006510361\",\"0006510364\",\"0006510365\",\"0006510366\",\"0006510546\", \"0006510362\",\"0006510367\",\"6000095501\", \"6000095740\", \"6000095498\", \"6000095500\", \"6000095499\"]\n",
    "    \n",
    "    \n",
    "    \n",
    "    def last_page(self, category):\n",
    "        url = \"http://emart.ssg.com/disp/category.ssg?dispCtgId={}\".format(category)\n",
    "        req = requests.get(url, headers={\"User-Agent\": UserAgent().chrome})\n",
    "        time.sleep(5)\n",
    "        response = TextResponse(req.url, body=req.text, encoding=\"utf-8\")\n",
    "\n",
    "        try:\n",
    "            last = response.xpath('//*[@id=\"area_itemlist\"]/div[2]/a/@onclick').extract()[-1]\n",
    "            last_page = int(re.findall('\\d+', last)[0]) + 1\n",
    "            print(\"끝페이지 : \", last_page-1)\n",
    "\n",
    "        except:\n",
    "            last_page = 2\n",
    "            print(\"끝페이지: \", last_page-1)\n",
    "\n",
    "        return last_page\n",
    "\n",
    "    \n",
    "    \n",
    "    def emart_crawling(self):\n",
    "        dfs = pd.DataFrame()\n",
    "\n",
    "        for category in self.categories:\n",
    "            print(\"=== 카테고리 번호 : \", category, \" ===\")\n",
    "            last_page = self.last_page(category)\n",
    "\n",
    "            for p in range(1, last_page):\n",
    "                url = \"http://emart.ssg.com/disp/category.ssg?dispCtgId={}&page={}\".format(category, p)\n",
    "\n",
    "                req = requests.get(url, headers={\"User-Agent\": UserAgent().chrome})\n",
    "                time.sleep(5)\n",
    "                response = TextResponse(req.url, body=req.text, encoding=\"utf-8\")\n",
    "\n",
    "                elements = response.xpath('//*[@id=\"ty_thmb_view\"]/ul/li')\n",
    "                print(\"페이지 번호\", p, \"\\t\", \"상품 수 : \", len(elements))\n",
    "\n",
    "                # category\n",
    "                cate = [category]*len(elements)\n",
    "\n",
    "                # title\n",
    "                titles = response.xpath('//*[@id=\"ty_thmb_view\"]/ul/li/div[@class=\"cunit_info\"]/div[@class=\"cunit_md notranslate\"]/div[@class=\"title\"]/a/em[@class=\"tx_ko\"]/text()').extract()\n",
    "\n",
    "                # price\n",
    "                price = response.xpath('//*[@id=\"ty_thmb_view\"]/ul/li/div[@class=\"cunit_info\"]/div[@class=\"cunit_price notranslate\"]/div[@class=\"opt_price\"]/em[@class=\"ssg_price\"]/text()').extract()\n",
    "\n",
    "                # link\n",
    "                links = response.xpath('//*[@id=\"ty_thmb_view\"]/ul/li/div[1]/div[2]/a/@href').extract()\n",
    "                links = [response.urljoin(link) for link in links]\n",
    "\n",
    "\n",
    "                # price per gram\n",
    "                idx = range(0,len(elements))\n",
    "                pprs = []\n",
    "                for n in idx:\n",
    "                    ppr = response.xpath('//*[@id=\"ty_thmb_view\"]/ul/li[{}]/div[@class=\"cunit_info\"]/div[@class =\"cunit_prw\"]/div/text()'.format(n)).extract()\n",
    "                    ppr = [\"-\" if ppr == [] else ppr[0]]\n",
    "                    pprs.append(ppr[0])\n",
    "\n",
    "                df = pd.DataFrame({\"category\": cate, \"titles\": titles, \"price\": price, \"links\": links, \"price/gram\": pprs})\n",
    "                dfs = pd.concat([dfs, df])\n",
    "\n",
    "        return dfs\n",
    "\n",
    "        \n",
    "        \n",
    "    def min_gram(self, data):\n",
    "\n",
    "        datas = data.replace(\" \", \"\")\n",
    "\n",
    "        if re.findall('(\\d+.?\\d?[l|L]\\*?x?X?\\d?\\d?)', datas):\n",
    "            datas = re.findall('(\\d+.?\\d?[l|L]\\*?x?X?\\d?\\d?)', datas)[::-1][0]\n",
    "\n",
    "        elif re.findall('(\\d+.?\\d?k?K?[g|G]\\*?x?X?\\d?\\d?)', datas):\n",
    "            datas = re.findall('(\\d+.?\\d?k?K?[g|G]\\*?x?X?\\d?\\d?)', datas)[::-1][0]\n",
    "\n",
    "        else:\n",
    "            datas = \"-\"\n",
    "\n",
    "        return datas\n",
    "    \n",
    "    \n",
    "\n",
    "    def category_name(self, category):\n",
    "        names = {\"냉동상품\": [\"6000097651\", \"6000097652\", \"6000097653\", \"6000097640\", \"6000097639\", \"6000097702\", \"6000097703\", \"6000097704\", \"6000097705\", \"6000097706\", \"6000097707\"],\n",
    "                 \"냉장식품\": [\"6000097656\", \"6000097658\", \"6000097669\", \"6000097671\", \"6000097670\"],\n",
    "                 \"식용유/설탕/소금\": ['6000095598', \"6000095711\", \"6000095727\", \"6000095709\"],\n",
    "                 \"장류/조미료\": [\"6000095605\", \"6000095607\", \"6000095608\", \"6000095604\", \"6000095724\", \"6000095606\", \"6000095712\", \"6000095726\", \"6000095728\", \"6000095729\", \"6000095713\", \"6000095714\", \"6000095715\"],\n",
    "                 \"소스/양념/육수\": [\"6000095591\", \"6000095590\", \"6000095592\", \"6000095594\", \"6000095609\", \"6000095725\", \"6000095612\", \"6000095593\"],\n",
    "                 \"밀가루/라면/믹스류\": [\"6000095595\", \"6000097134\"],\n",
    "                 \"편의식/가공기타\": [\"6000097196\", \"6000097637\", \"6000097136\", \"6000095508\", \"6000097138\", \"6000097137\", \"6000095862\", \"6000095506\", \"6000096326\"],\n",
    "                 \"반찬류\": [\"6000097506\", \"6000097507\"],\n",
    "                 \"과일\": [\"6000095796\", \"6000095794\"],\n",
    "                 \"포장용기\": [\"0006510363\", \"0006510361\", \"0006510364\", \"0006510365\", \"0006510366\", \"0006510546\"],\n",
    "                 \"가게위생용품\": [\"0006510362\", \"0006510367\"],\n",
    "                 \"유제품\": \"6000095501\",\n",
    "                 \"야채/채소\": \"6000095740\",\n",
    "                 \"쌀/잡곡/견과\": \"6000095498\",\n",
    "                 \"수산/건어물\": \"6000095500\",\n",
    "                 \"축산/계란\": \"6000095499\"}\n",
    "        for name, num in names.items():\n",
    "            if num == category:\n",
    "                return name\n",
    "\n",
    "            \n",
    "            \n",
    "    def sql_db(self):\n",
    "        config = configparser.ConfigParser()\n",
    "        config.read(\".local.ini\")\n",
    "        sql_datas = config[\"sql\"]\n",
    "\n",
    "        engine = create_engine(\"mysql://{}:{}@{}/crawling?charset=utf8\".format(sql_datas[\"user\"], sql_datas[\"pw\"], sql_datas[\"public_ip\"]), encoding='utf8')\n",
    "\n",
    "        dfs = self.emart_crawling()\n",
    "        dfs[\"min_gram\"] = dfs[\"titles\"].apply(lambda data: self.min_gram(data))\n",
    "        dfs = dfs.reset_index(drop=True)\n",
    "        dfs.to_sql(name=\"emart_goods\", con=engine, if_exists=\"replace\")\n",
    "        print(\"saved in mySQL database!!\")\n",
    "        \n",
    "        return dfs"
   ]
  }
 ],
 "metadata": {
  "kernelspec": {
   "display_name": "Python 3",
   "language": "python",
   "name": "python3"
  },
  "language_info": {
   "codemirror_mode": {
    "name": "ipython",
    "version": 3
   },
   "file_extension": ".py",
   "mimetype": "text/x-python",
   "name": "python",
   "nbconvert_exporter": "python",
   "pygments_lexer": "ipython3",
   "version": "3.7.6"
  },
  "toc": {
   "base_numbering": 1,
   "nav_menu": {},
   "number_sections": true,
   "sideBar": true,
   "skip_h1_title": false,
   "title_cell": "Table of Contents",
   "title_sidebar": "Contents",
   "toc_cell": false,
   "toc_position": {},
   "toc_section_display": true,
   "toc_window_display": false
  }
 },
 "nbformat": 4,
 "nbformat_minor": 4
}
